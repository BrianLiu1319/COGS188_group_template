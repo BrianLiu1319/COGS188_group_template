{
 "cells": [
  {
   "attachments": {},
   "cell_type": "markdown",
   "metadata": {},
   "source": [
    "# COGS 188 - Project Proposal"
   ]
  },
  {
   "attachments": {},
   "cell_type": "markdown",
   "metadata": {
    "jp-MarkdownHeadingCollapsed": true
   },
   "source": [
    "# Names\n",
    "\n",
    "- Brian Liu\n",
    "- Valeria Avila\n",
    "- Juan Villalobos"
   ]
  },
  {
   "cell_type": "markdown",
   "metadata": {},
   "source": [
    "# Abstract \n",
    "\n",
    "This project will be on the classic game Tetris. The goal is to have the AI be able to make the optimal move and continually clear lines of tetris pieces or tetriminos. The data that is being used is just a simple tetris game and is measured by its score to see if it is able to clear lines. Other arbitrary measurements will be the shape of the tetris stack and having the game over screen be the ultimate punishment. The game is over when our tetris stack exceeds the limit and the success will be measured by the score."
   ]
  },
  {
   "cell_type": "markdown",
   "metadata": {},
   "source": [
    "# Background\n",
    "\n",
    "Tetris is a tile-matching game developed on JUne 6, 1984. Tetris has been used frequently as a subject of intrest in the field of AI and game theory because of the game's simplicity and complexity at the same time. Algorithms such as heuristic searchs such as A-star <a name=\"lorenz\"></a>[<sup>[1]</sup>](https://www.mdpi.com/1424-8220/18/8/2585) and genetic algorithms have been used to evaluate each possible move. Reinforcement learning techniques such as Q-learning or Markov Decision Processes have been used to train AI agents to play Tetris at a high level of proficiency.\n",
    "\n",
    "Tetris have found to be an NP-complete <a name=\"lorenz\"></a>[<sup>[2]</sup>](https://medium.com/smith-hcv/np-completeness-of-tetris-ebbb24c7ba7a) meaning it is a perfect and valuable tool to examine the limits of AI optimization techniques and their applications as finding an optimal solution is pretty much impossible as the game goes on.\n",
    "\n",
    "AI is significant in Tetris because it gives a fun and interesting platform to develop and test AI algorithms.\n",
    "\n",
    "\n",
    "\n"
   ]
  },
  {
   "cell_type": "markdown",
   "metadata": {},
   "source": [
    "# Problem Statement\n",
    "\n",
    "Our problem is to find an algorithm that optimizes each move played in Tetris. Meaning each move is able to maximize the score gained every time a line is cleared in tetris. Because there are nearly infinite amount of moves because of the placement of our random bag of tetris pieces and our current game state of Tetris, it makes an AI algorithm perfect to see if we can find the best move for each piece. We will be employing reinforcement learning or Q-learning to learn the optimal action-value function. This problem is quantifiable because each move and piece that we employ are notably finite and we have a constant observation of our tetris stack. We can quantify how optimal our algorithm is by our score and it is definitely replicable because the game of tetris can always be replayed."
   ]
  },
  {
   "cell_type": "markdown",
   "metadata": {},
   "source": [
    "# Data\n",
    "\n",
    "You should have a strong idea of what dataset(s) will be used to accomplish this project. \n",
    "\n",
    "If you know what (some) of the data you will use, please give the following information for each dataset:\n",
    "- link/reference to obtain it\n",
    "- description of the size of the dataset (# of variables, # of observations)\n",
    "- what an observation consists of\n",
    "- what some critical variables are, how they are represented\n",
    "- any special handling, transformations, cleaning, etc will be needed\n",
    "\n",
    "If you don't yet know what your dataset(s) will be, you should describe what you desire in terms of the above bullets."
   ]
  },
  {
   "cell_type": "markdown",
   "metadata": {},
   "source": [
    "# Proposed Solution\n",
    "\n",
    "In this section, clearly describe a solution to the problem. The solution should be applicable to the project domain and appropriate for the dataset(s) or input(s) given. Provide enough detail (e.g., algorithmic description and/or theoretical properties) to convince us that your solution is applicable. Why might your solution work? Make sure to describe how the solution will be tested.  \n",
    "\n",
    "If you know details already, describe how (e.g., library used, function calls) you plan to implement the solution in a way that is reproducible.\n",
    "\n",
    "If it is appropriate to the problem statement, describe a benchmark model<a name=\"sota\"></a>[<sup>[3]</sup>](#sotanote) against which your solution will be compared. "
   ]
  },
  {
   "cell_type": "markdown",
   "metadata": {},
   "source": [
    "# Evaluation Metrics\n",
    "\n",
    "Propose at least one evaluation metric that can be used to quantify the performance of both the benchmark model and the solution model. The evaluation metric(s) you propose should be appropriate given the context of the data, the problem statement, and the intended solution. Describe how the evaluation metric(s) are derived and provide an example of their mathematical representations (if applicable). Complex evaluation metrics should be clearly defined and quantifiable (can be expressed in mathematical or logical terms)."
   ]
  },
  {
   "cell_type": "markdown",
   "metadata": {},
   "source": [
    "# Ethics & Privacy"
   ]
  },
  {
   "attachments": {},
   "cell_type": "markdown",
   "metadata": {},
   "source": [
    "While training the agent, there could be issues concerning fairness. The individual training such agent could have some bias in deciding how to train the again. For example, there could be bias for which actions should deserve a reward and which shouldn't. This could lead to an unfair algorithm. In order to adress this we are going to be objective as we are simply going to follow the rules in which Tetris has been played for years."
   ]
  },
  {
   "cell_type": "markdown",
   "metadata": {},
   "source": [
    "# Team Expectations "
   ]
  },
  {
   "attachments": {},
   "cell_type": "markdown",
   "metadata": {},
   "source": [
    "Put things here that cement how you will interact/communicate as a team, how you will handle conflict and difficulty, how you will handle making decisions and setting goals/schedule, how much work you expect from each other, how you will handle deadlines, etc...\n",
    "* Team Expectation 1: We will communicate with each other on how the project is coming along and ask each other for help if needed.\n",
    "* Team Expectation 2: We will stay on track with the proposed project timeline.\n",
    "* Team Expecation 3: We will each contibute to the project."
   ]
  },
  {
   "cell_type": "markdown",
   "metadata": {},
   "source": [
    "# Project Timeline Proposal"
   ]
  },
  {
   "attachments": {},
   "cell_type": "markdown",
   "metadata": {},
   "source": [
    "Replace this with something meaningful that is appropriate for your needs. It doesn't have to be something that fits this format.  It doesn't have to be set in stone... \"no battle plan survives contact with the enemy\". But you need a battle plan nonetheless, and you need to keep it updated so you understand what you are trying to accomplish, who's responsible for what, and what the expected due dates are for each item.\n",
    "\n",
    "| Meeting Date  | Meeting Time| Completed Before Meeting  | Discuss at Meeting |\n",
    "|---|---|---|---|\n",
    "| 5/13 |  10 PM |  Brainstorm topics/questions (all)  | Determine best form of communication; Discuss and decide on final project topic; begin background research | \n",
    "| 5/15  |  10 PM |  Draft project proposal | Finish proposal\n",
    "| 5/17  | 10 PM | Edit, finalize, and submit proposal | Assign parts of the project to each person |\n",
    "| 5/22  | 10 PM  | Explore OpenAI Tetris env. | Discuss how our parts are coming along and help each other if needed |\n",
    "| 5/29  | 10 PM  | Have game trained | Discuss/edit project code; Complete project |\n",
    "| 6/5  | 10 PM | Have analysis draft done | Discuss/edit full project |\n",
    "| 6/12 | Before 11:59 PM  | NA | Turn in Final Project  |"
   ]
  },
  {
   "cell_type": "markdown",
   "metadata": {},
   "source": [
    "# Footnotes\n",
    "<a name=\"lorenznote\"></a>1.[^](#lorenz): Lorenz, T. (9 Dec 2021) Birds Aren’t Real, or Are They? Inside a Gen Z Conspiracy Theory. *The New York Times*. https://www.nytimes.com/2021/12/09/technology/birds-arent-real-gen-z-misinformation.html<br> \n",
    "<a name=\"admonishnote\"></a>2.[^](#admonish): Also refs should be important to the background, not some randomly chosen vaguely related stuff. Include a web link if possible in refs as above.<br>\n",
    "<a name=\"sotanote\"></a>3.[^](#sota): Perhaps the current state of the art solution such as you see on [Papers with code](https://paperswithcode.com/sota). Or maybe not SOTA, but rather a standard textbook/Kaggle solution to this kind of problem\n"
   ]
  },
  {
   "cell_type": "code",
   "execution_count": null,
   "metadata": {},
   "outputs": [],
   "source": []
  }
 ],
 "metadata": {
  "kernelspec": {
   "display_name": "Python 3 (ipykernel)",
   "language": "python",
   "name": "python3"
  },
  "language_info": {
   "codemirror_mode": {
    "name": "ipython",
    "version": 3
   },
   "file_extension": ".py",
   "mimetype": "text/x-python",
   "name": "python",
   "nbconvert_exporter": "python",
   "pygments_lexer": "ipython3",
   "version": "3.12.3"
  }
 },
 "nbformat": 4,
 "nbformat_minor": 4
}
